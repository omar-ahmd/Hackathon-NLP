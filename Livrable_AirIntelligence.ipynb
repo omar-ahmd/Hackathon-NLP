{
  "cells": [
    {
      "cell_type": "markdown",
      "metadata": {
        "id": "view-in-github",
        "colab_type": "text"
      },
      "source": [
        "<a href=\"https://colab.research.google.com/github/omar-ahmd/Hackathon-NLP/blob/main/Livrable_AirIntelligence.ipynb\" target=\"_parent\"><img src=\"https://colab.research.google.com/assets/colab-badge.svg\" alt=\"Open In Colab\"/></a>"
      ]
    },
    {
      "cell_type": "markdown",
      "metadata": {
        "id": "g1AnUmpmoFYi"
      },
      "source": [
        "#Importations utiles\n"
      ]
    },
    {
      "cell_type": "code",
      "execution_count": null,
      "metadata": {
        "id": "mOPC3lx6ngDL"
      },
      "outputs": [],
      "source": [
        "import pandas as pd\n",
        "import numpy as np\n",
        "from sklearn import preprocessing\n",
        "import nltk\n",
        "from nltk import SnowballStemmer\n",
        "import spacy\n",
        "import json\n",
        "import xgboost as xgb\n",
        "from sklearn.feature_extraction.text import TfidfVectorizer\n",
        "from sklearn.feature_extraction.text import CountVectorizer\n",
        "from sklearn.feature_extraction import text\n",
        "from sklearn.metrics.pairwise import sigmoid_kernel\n",
        "from sklearn.feature_extraction.text import TfidfVectorizer\n",
        "from scipy.sparse.linalg import svds\n",
        "from sklearn.model_selection import train_test_split\n",
        "from sklearn.tree import DecisionTreeClassifier\n",
        "from sklearn.ensemble import RandomForestClassifier\n",
        "import lightgbm as lgbm\n",
        "from lightgbm import LGBMClassifier\n",
        "from scipy.sparse import hstack\n",
        "from sklearn.svm import LinearSVC, SVC\n",
        "from sklearn.metrics import f1_score, accuracy_score\n",
        "import pickle\n"
      ]
    },
    {
      "cell_type": "code",
      "execution_count": null,
      "metadata": {
        "colab": {
          "base_uri": "https://localhost:8080/"
        },
        "id": "XALUYdS6tO1g",
        "outputId": "9939533c-8bf1-4fad-f345-1d57243a9752"
      },
      "outputs": [
        {
          "name": "stdout",
          "output_type": "stream",
          "text": [
            "[nltk_data] Downloading package stopwords to /root/nltk_data...\n",
            "[nltk_data]   Package stopwords is already up-to-date!\n"
          ]
        },
        {
          "data": {
            "text/plain": [
              "True"
            ]
          },
          "execution_count": 2,
          "metadata": {},
          "output_type": "execute_result"
        }
      ],
      "source": [
        "nltk.download('stopwords')"
      ]
    },
    {
      "cell_type": "markdown",
      "metadata": {
        "id": "mszIYz28oZqk"
      },
      "source": [
        "#Importation et preprocessing des données"
      ]
    },
    {
      "cell_type": "code",
      "execution_count": null,
      "metadata": {
        "colab": {
          "base_uri": "https://localhost:8080/"
        },
        "id": "yHZg6zstsD_K",
        "outputId": "90780cb6-54bc-4767-a8cf-436c075d9964"
      },
      "outputs": [
        {
          "data": {
            "text/plain": [
              "(None, None)"
            ]
          },
          "execution_count": 3,
          "metadata": {},
          "output_type": "execute_result"
        }
      ],
      "source": [
        "from google_drive_downloader import GoogleDriveDownloader as gdd\n",
        "gdd.download_file_from_google_drive(file_id='1SlMDnllld8RTM2W9sz9LC9hJ62Ig01g1',\n",
        "dest_path='./trainingData.csv'),gdd.download_file_from_google_drive(file_id='1Ad7GKKjHU7EO8TtrrI1NzxUp_R8L_uxh',\n",
        "dest_path='./testData.csv')"
      ]
    },
    {
      "cell_type": "code",
      "execution_count": null,
      "metadata": {
        "colab": {
          "base_uri": "https://localhost:8080/"
        },
        "id": "LR0ogaI4ojPt",
        "outputId": "057a69a9-3916-4fff-9bfd-9f9233a0a1be"
      },
      "outputs": [
        {
          "name": "stderr",
          "output_type": "stream",
          "text": [
            "/usr/local/lib/python3.7/dist-packages/ipykernel_launcher.py:5: SettingWithCopyWarning: \n",
            "A value is trying to be set on a copy of a slice from a DataFrame\n",
            "\n",
            "See the caveats in the documentation: https://pandas.pydata.org/pandas-docs/stable/user_guide/indexing.html#returning-a-view-versus-a-copy\n",
            "  \"\"\"\n"
          ]
        }
      ],
      "source": [
        "df = pd.read_csv('trainingData.csv',sep=\";\")\n",
        "df = df.iloc[:,:-3] \n",
        "df=df[df.LIENWIKI.isna()==False]\n",
        "df.LIENWIKI = df.LIENWIKI.str.replace(\"/wikisup/base%20de%20connaissance%20support/\",'')\n",
        "df.LIENWIKI[df.LIENWIKI.str.contains(\"host\")] = \"host\"\n",
        "df.ENONCE_PROBLEME_P = df.ENONCE_PROBLEME_P.str.replace(\"description de\",'')\n",
        "df = df.apply(lambda x: x.astype(str).str.lower())\n",
        "df.drop([\"STATUT\",\"INCIDENT\",\"DESIGNATION_PRODUIT\",\"DESIGNATION_EQUIPEMENT\",\"DESIGNATION_APP\",\"CODE_PRODUIT\",\"CODE_EQUIPEMENT\",\"CODE_APP\"],axis=1,inplace=True)"
      ]
    },
    {
      "cell_type": "code",
      "execution_count": null,
      "metadata": {
        "colab": {
          "base_uri": "https://localhost:8080/"
        },
        "id": "B3QVnYisz85v",
        "outputId": "3cb7464f-489f-44be-d2c3-786e43af0b7f"
      },
      "outputs": [
        {
          "name": "stderr",
          "output_type": "stream",
          "text": [
            "/usr/local/lib/python3.7/dist-packages/ipykernel_launcher.py:1: DeprecationWarning: `np.object` is a deprecated alias for the builtin `object`. To silence this warning, use `object` by itself. Doing this will not modify any behavior and is safe. \n",
            "Deprecated in NumPy 1.20; for more details and guidance: https://numpy.org/devdocs/release/1.20.0-notes.html#deprecations\n",
            "  \"\"\"Entry point for launching an IPython kernel.\n",
            "/usr/local/lib/python3.7/dist-packages/ipykernel_launcher.py:3: FutureWarning: The default value of regex will change from True to False in a future version.\n",
            "  This is separate from the ipykernel package so we can avoid doing imports until\n",
            "/usr/local/lib/python3.7/dist-packages/ipykernel_launcher.py:5: FutureWarning: The default value of regex will change from True to False in a future version.\n",
            "  \"\"\"\n"
          ]
        }
      ],
      "source": [
        "cols = df.select_dtypes(include=[np.object]).columns\n",
        "df[cols[:-1]] = df[cols[:-1]].apply(lambda x: x.str.normalize('NFKD').str.encode('ascii', errors='ignore').str.decode('utf-8'))\n",
        "df[cols[:-1]] = df[cols[:-1]].apply(lambda x: x.str.replace('[^\\dA-Za-z]', ' '))\n",
        "df[cols[:-1]] = df[cols[:-1]].apply(lambda x: x.str.replace('xx', ''))\n",
        "df[cols[:-1]] = df[cols[:-1]].apply(lambda x: x.str.replace(r'\\b\\w\\b', '').str.replace(r'\\s+', ' '))"
      ]
    },
    {
      "cell_type": "code",
      "execution_count": null,
      "metadata": {
        "id": "gomFN5mOpQL1"
      },
      "outputs": [],
      "source": [
        "le = preprocessing.LabelEncoder()\n",
        "le.fit(df.LIENWIKI.unique())\n",
        "df.LIENWIKI = le.transform(df.LIENWIKI)"
      ]
    },
    {
      "cell_type": "code",
      "execution_count": null,
      "metadata": {
        "id": "xJwzm4DPtHyn"
      },
      "outputs": [],
      "source": [
        "## Removing stopwords\n",
        "list2 = ['utilisateur','wiki','description','lien','utilise','ok','probleme','actions','depuis','quand','oui','non','si','autre','ca','aujourd','hui','auj','u','lutilisateur','personne','autres','utilisateurs','car']\n",
        "from nltk.corpus import stopwords\n",
        "stp_list = stopwords.words('english') + stopwords.words('french') \n",
        "df['ENONCE_PROBLEME_P'] = df['ENONCE_PROBLEME_P'].apply(lambda x: ' '.join([item for item in x.split() if item not in stp_list]))"
      ]
    },
    {
      "cell_type": "markdown",
      "metadata": {
        "id": "K7UuHRTV3IU3"
      },
      "source": [
        "#Extraction des features\n"
      ]
    },
    {
      "cell_type": "code",
      "execution_count": null,
      "metadata": {
        "id": "1zllmzVa3MxG"
      },
      "outputs": [],
      "source": [
        "cv1 = TfidfVectorizer(lowercase=True, min_df=3,  max_features=None,\n",
        "                      strip_accents='unicode', analyzer='word', token_pattern=r'\\w{1,}',\n",
        "                      ngram_range=(1, 3))\n",
        "                      #stop_words= stop_wordss)\n",
        "\n",
        "vectorized1 = cv1.fit_transform(df.loc[:,\"DESIGNATION\"])"
      ]
    },
    {
      "cell_type": "code",
      "execution_count": null,
      "metadata": {
        "id": "bvcjsGmf3hpa"
      },
      "outputs": [],
      "source": [
        "cv2 = TfidfVectorizer(lowercase=True, min_df=10,  max_features=None,\n",
        "                      strip_accents='unicode', analyzer='word', token_pattern=r'\\w{1,}',\n",
        "                      ngram_range=(1, 3))\n",
        "                      #stop_words= stop_wordss)\n",
        "\n",
        "vectorized2 = cv2.fit_transform(df.loc[:,\"ENONCE_PROBLEME_P\"])"
      ]
    },
    {
      "cell_type": "code",
      "execution_count": null,
      "metadata": {
        "id": "Yi53g2FZ3hug"
      },
      "outputs": [],
      "source": [
        "cv3 = TfidfVectorizer(lowercase=True, min_df=3,  max_features=None,\n",
        "                      strip_accents='unicode', analyzer='word', token_pattern=r'\\w{1,}',\n",
        "                      ngram_range=(1, 3))\n",
        "                      #stop_words= stop_wordss)\n",
        "\n",
        "vectorized3 = cv3.fit_transform(df.loc[:,\"NOMENCLATURE_PROBLEME\"])"
      ]
    },
    {
      "cell_type": "code",
      "execution_count": null,
      "metadata": {
        "id": "brvrRwQp34Ge"
      },
      "outputs": [],
      "source": [
        "Train_features = hstack([vectorized1,vectorized2,vectorized3])"
      ]
    },
    {
      "cell_type": "markdown",
      "metadata": {
        "id": "4BJxfmw44Kbf"
      },
      "source": [
        "# Training"
      ]
    },
    {
      "cell_type": "code",
      "execution_count": null,
      "metadata": {
        "colab": {
          "background_save": true
        },
        "id": "GHv1BFSY4N5S",
        "outputId": "23d4bf68-6a01-43cc-e226-93a82e170958"
      },
      "outputs": [
        {
          "data": {
            "text/plain": [
              "SVC(C=12.5, gamma=0.58, probability=True)"
            ]
          },
          "execution_count": null,
          "metadata": {},
          "output_type": "execute_result"
        }
      ],
      "source": [
        "# SVC + kernel \n",
        "svc = SVC(kernel='rbf', C=12.5, gamma=0.58, probability=True)\n",
        "svc.fit(Train_features, df.LIENWIKI)"
      ]
    },
    {
      "cell_type": "code",
      "execution_count": null,
      "metadata": {
        "colab": {
          "background_save": true
        },
        "id": "LwX7_mE16Wlh"
      },
      "outputs": [],
      "source": [
        "filename = 'finalizedSVC_model.sav'\n",
        "pickle.dump(svc, open(filename, 'wb'))"
      ]
    },
    {
      "cell_type": "markdown",
      "metadata": {
        "id": "kidUZKrE7lRt"
      },
      "source": [
        "# Testing"
      ]
    },
    {
      "cell_type": "code",
      "execution_count": null,
      "metadata": {
        "colab": {
          "background_save": true
        },
        "id": "PV_avNmu7q2D",
        "outputId": "de370e6a-b6c0-49de-9d6f-5f32067e3478"
      },
      "outputs": [
        {
          "data": {
            "text/html": [
              "\n",
              "  <div id=\"df-dd10646a-ee7c-491a-950d-66072b6121cd\">\n",
              "    <div class=\"colab-df-container\">\n",
              "      <div>\n",
              "<style scoped>\n",
              "    .dataframe tbody tr th:only-of-type {\n",
              "        vertical-align: middle;\n",
              "    }\n",
              "\n",
              "    .dataframe tbody tr th {\n",
              "        vertical-align: top;\n",
              "    }\n",
              "\n",
              "    .dataframe thead th {\n",
              "        text-align: right;\n",
              "    }\n",
              "</style>\n",
              "<table border=\"1\" class=\"dataframe\">\n",
              "  <thead>\n",
              "    <tr style=\"text-align: right;\">\n",
              "      <th></th>\n",
              "      <th>INCIDENT</th>\n",
              "      <th>STATUT</th>\n",
              "      <th>DESIGNATION</th>\n",
              "      <th>CODE_PRODUIT</th>\n",
              "      <th>DESIGNATION_PRODUIT</th>\n",
              "      <th>CODE_EQUIPEMENT</th>\n",
              "      <th>DESIGNATION_EQUIPEMENT</th>\n",
              "      <th>CODE_APP</th>\n",
              "      <th>DESIGNATION_APP</th>\n",
              "      <th>NOMENCLATURE_PROBLEME</th>\n",
              "      <th>ENONCE_PROBLEME_P</th>\n",
              "      <th>LIENWIKI</th>\n",
              "    </tr>\n",
              "  </thead>\n",
              "  <tbody>\n",
              "    <tr>\n",
              "      <th>0</th>\n",
              "      <td>639492</td>\n",
              "      <td>Archivé</td>\n",
              "      <td>#ADMINISTRATION/COMPTE/REINITIALISATION MOT DE...</td>\n",
              "      <td>NaN</td>\n",
              "      <td>NaN</td>\n",
              "      <td>11267.0</td>\n",
              "      <td>OPTIPLEX 3020SFF</td>\n",
              "      <td>1344.0</td>\n",
              "      <td>ADMINTOOLS</td>\n",
              "      <td>Acces, Comptes</td>\n",
              "      <td>description de l'incident:l'user signale que q...</td>\n",
              "      <td>/wikisup/base%20de%20connaissance%20support/co...</td>\n",
              "    </tr>\n",
              "    <tr>\n",
              "      <th>1</th>\n",
              "      <td>644449</td>\n",
              "      <td>Archivé</td>\n",
              "      <td>#MATERIEL/TELEPHONIE/CISCO WIFI</td>\n",
              "      <td>454308.0</td>\n",
              "      <td>LECTEUR MINI FLASH USB LK2</td>\n",
              "      <td>216315.0</td>\n",
              "      <td>NaN</td>\n",
              "      <td>0.0</td>\n",
              "      <td>Sans Objet</td>\n",
              "      <td>Telephonie</td>\n",
              "      <td>description de l'incident :le capot arriere du...</td>\n",
              "      <td>/wikisup/base%20de%20connaissance%20support/su...</td>\n",
              "    </tr>\n",
              "    <tr>\n",
              "      <th>2</th>\n",
              "      <td>645665</td>\n",
              "      <td>Archivé</td>\n",
              "      <td>#MATERIEL/TELEPHONIE/CISCO WIFI</td>\n",
              "      <td>NaN</td>\n",
              "      <td>NaN</td>\n",
              "      <td>63080.0</td>\n",
              "      <td>Désignation nulle</td>\n",
              "      <td>0.0</td>\n",
              "      <td>Sans Objet</td>\n",
              "      <td>Pb fonctionnalites telephoniques</td>\n",
              "      <td>description de l'incident :l'utilisateur nous ...</td>\n",
              "      <td>/wikisup/base%20de%20connaissance%20support/su...</td>\n",
              "    </tr>\n",
              "    <tr>\n",
              "      <th>3</th>\n",
              "      <td>651210</td>\n",
              "      <td>Archivé</td>\n",
              "      <td>#MATERIEL/TELEPHONIE/IP</td>\n",
              "      <td>NaN</td>\n",
              "      <td>NaN</td>\n",
              "      <td>63110.0</td>\n",
              "      <td>LENOVO THINKCENTRE M700</td>\n",
              "      <td>0.0</td>\n",
              "      <td>Sans Objet</td>\n",
              "      <td>ToIP</td>\n",
              "      <td>description de l'incident : l'utilisateur me s...</td>\n",
              "      <td>/wikisup/base%20de%20connaissance%20support/su...</td>\n",
              "    </tr>\n",
              "    <tr>\n",
              "      <th>4</th>\n",
              "      <td>655283</td>\n",
              "      <td>Archivé</td>\n",
              "      <td>#MATERIEL/TELEPHONIE/CISCO WIFI</td>\n",
              "      <td>334897.0</td>\n",
              "      <td>DOUCHETTE DATALOGIC TOUCH 90 PRO</td>\n",
              "      <td>190848.0</td>\n",
              "      <td>Désignation nulle</td>\n",
              "      <td>0.0</td>\n",
              "      <td>Sans Objet</td>\n",
              "      <td>ToIP</td>\n",
              "      <td>description de l'incident : l'utilisateur a me...</td>\n",
              "      <td>/wikisup/base%20de%20connaissance%20support/su...</td>\n",
              "    </tr>\n",
              "  </tbody>\n",
              "</table>\n",
              "</div>\n",
              "      <button class=\"colab-df-convert\" onclick=\"convertToInteractive('df-dd10646a-ee7c-491a-950d-66072b6121cd')\"\n",
              "              title=\"Convert this dataframe to an interactive table.\"\n",
              "              style=\"display:none;\">\n",
              "        \n",
              "  <svg xmlns=\"http://www.w3.org/2000/svg\" height=\"24px\"viewBox=\"0 0 24 24\"\n",
              "       width=\"24px\">\n",
              "    <path d=\"M0 0h24v24H0V0z\" fill=\"none\"/>\n",
              "    <path d=\"M18.56 5.44l.94 2.06.94-2.06 2.06-.94-2.06-.94-.94-2.06-.94 2.06-2.06.94zm-11 1L8.5 8.5l.94-2.06 2.06-.94-2.06-.94L8.5 2.5l-.94 2.06-2.06.94zm10 10l.94 2.06.94-2.06 2.06-.94-2.06-.94-.94-2.06-.94 2.06-2.06.94z\"/><path d=\"M17.41 7.96l-1.37-1.37c-.4-.4-.92-.59-1.43-.59-.52 0-1.04.2-1.43.59L10.3 9.45l-7.72 7.72c-.78.78-.78 2.05 0 2.83L4 21.41c.39.39.9.59 1.41.59.51 0 1.02-.2 1.41-.59l7.78-7.78 2.81-2.81c.8-.78.8-2.07 0-2.86zM5.41 20L4 18.59l7.72-7.72 1.47 1.35L5.41 20z\"/>\n",
              "  </svg>\n",
              "      </button>\n",
              "      \n",
              "  <style>\n",
              "    .colab-df-container {\n",
              "      display:flex;\n",
              "      flex-wrap:wrap;\n",
              "      gap: 12px;\n",
              "    }\n",
              "\n",
              "    .colab-df-convert {\n",
              "      background-color: #E8F0FE;\n",
              "      border: none;\n",
              "      border-radius: 50%;\n",
              "      cursor: pointer;\n",
              "      display: none;\n",
              "      fill: #1967D2;\n",
              "      height: 32px;\n",
              "      padding: 0 0 0 0;\n",
              "      width: 32px;\n",
              "    }\n",
              "\n",
              "    .colab-df-convert:hover {\n",
              "      background-color: #E2EBFA;\n",
              "      box-shadow: 0px 1px 2px rgba(60, 64, 67, 0.3), 0px 1px 3px 1px rgba(60, 64, 67, 0.15);\n",
              "      fill: #174EA6;\n",
              "    }\n",
              "\n",
              "    [theme=dark] .colab-df-convert {\n",
              "      background-color: #3B4455;\n",
              "      fill: #D2E3FC;\n",
              "    }\n",
              "\n",
              "    [theme=dark] .colab-df-convert:hover {\n",
              "      background-color: #434B5C;\n",
              "      box-shadow: 0px 1px 3px 1px rgba(0, 0, 0, 0.15);\n",
              "      filter: drop-shadow(0px 1px 2px rgba(0, 0, 0, 0.3));\n",
              "      fill: #FFFFFF;\n",
              "    }\n",
              "  </style>\n",
              "\n",
              "      <script>\n",
              "        const buttonEl =\n",
              "          document.querySelector('#df-dd10646a-ee7c-491a-950d-66072b6121cd button.colab-df-convert');\n",
              "        buttonEl.style.display =\n",
              "          google.colab.kernel.accessAllowed ? 'block' : 'none';\n",
              "\n",
              "        async function convertToInteractive(key) {\n",
              "          const element = document.querySelector('#df-dd10646a-ee7c-491a-950d-66072b6121cd');\n",
              "          const dataTable =\n",
              "            await google.colab.kernel.invokeFunction('convertToInteractive',\n",
              "                                                     [key], {});\n",
              "          if (!dataTable) return;\n",
              "\n",
              "          const docLinkHtml = 'Like what you see? Visit the ' +\n",
              "            '<a target=\"_blank\" href=https://colab.research.google.com/notebooks/data_table.ipynb>data table notebook</a>'\n",
              "            + ' to learn more about interactive tables.';\n",
              "          element.innerHTML = '';\n",
              "          dataTable['output_type'] = 'display_data';\n",
              "          await google.colab.output.renderOutput(dataTable, element);\n",
              "          const docLink = document.createElement('div');\n",
              "          docLink.innerHTML = docLinkHtml;\n",
              "          element.appendChild(docLink);\n",
              "        }\n",
              "      </script>\n",
              "    </div>\n",
              "  </div>\n",
              "  "
            ],
            "text/plain": [
              "   INCIDENT   STATUT                                        DESIGNATION  \\\n",
              "0    639492  Archivé  #ADMINISTRATION/COMPTE/REINITIALISATION MOT DE...   \n",
              "1    644449  Archivé                    #MATERIEL/TELEPHONIE/CISCO WIFI   \n",
              "2    645665  Archivé                    #MATERIEL/TELEPHONIE/CISCO WIFI   \n",
              "3    651210  Archivé                            #MATERIEL/TELEPHONIE/IP   \n",
              "4    655283  Archivé                    #MATERIEL/TELEPHONIE/CISCO WIFI   \n",
              "\n",
              "   CODE_PRODUIT               DESIGNATION_PRODUIT  CODE_EQUIPEMENT  \\\n",
              "0           NaN                               NaN          11267.0   \n",
              "1      454308.0        LECTEUR MINI FLASH USB LK2         216315.0   \n",
              "2           NaN                               NaN          63080.0   \n",
              "3           NaN                               NaN          63110.0   \n",
              "4      334897.0  DOUCHETTE DATALOGIC TOUCH 90 PRO         190848.0   \n",
              "\n",
              "    DESIGNATION_EQUIPEMENT  CODE_APP DESIGNATION_APP  \\\n",
              "0         OPTIPLEX 3020SFF    1344.0      ADMINTOOLS   \n",
              "1                      NaN       0.0      Sans Objet   \n",
              "2        Désignation nulle       0.0      Sans Objet   \n",
              "3  LENOVO THINKCENTRE M700       0.0      Sans Objet   \n",
              "4        Désignation nulle       0.0      Sans Objet   \n",
              "\n",
              "              NOMENCLATURE_PROBLEME  \\\n",
              "0                    Acces, Comptes   \n",
              "1                        Telephonie   \n",
              "2  Pb fonctionnalites telephoniques   \n",
              "3                              ToIP   \n",
              "4                              ToIP   \n",
              "\n",
              "                                   ENONCE_PROBLEME_P  \\\n",
              "0  description de l'incident:l'user signale que q...   \n",
              "1  description de l'incident :le capot arriere du...   \n",
              "2  description de l'incident :l'utilisateur nous ...   \n",
              "3  description de l'incident : l'utilisateur me s...   \n",
              "4  description de l'incident : l'utilisateur a me...   \n",
              "\n",
              "                                            LIENWIKI  \n",
              "0  /wikisup/base%20de%20connaissance%20support/co...  \n",
              "1  /wikisup/base%20de%20connaissance%20support/su...  \n",
              "2  /wikisup/base%20de%20connaissance%20support/su...  \n",
              "3  /wikisup/base%20de%20connaissance%20support/su...  \n",
              "4  /wikisup/base%20de%20connaissance%20support/su...  "
            ]
          },
          "execution_count": null,
          "metadata": {},
          "output_type": "execute_result"
        }
      ],
      "source": [
        "test_df = pd.read_csv('testData.csv',sep=\";\")\n",
        "(test_df.iloc[:,:]).head()\n"
      ]
    },
    {
      "cell_type": "code",
      "execution_count": null,
      "metadata": {
        "colab": {
          "background_save": true
        },
        "id": "NnRFEZtE-Nai",
        "outputId": "22e5892d-7769-4ecf-d7a9-d29b39a8b707"
      },
      "outputs": [
        {
          "name": "stderr",
          "output_type": "stream",
          "text": [
            "/usr/local/lib/python3.7/dist-packages/ipykernel_launcher.py:10: DeprecationWarning: `np.object` is a deprecated alias for the builtin `object`. To silence this warning, use `object` by itself. Doing this will not modify any behavior and is safe. \n",
            "Deprecated in NumPy 1.20; for more details and guidance: https://numpy.org/devdocs/release/1.20.0-notes.html#deprecations\n",
            "  # Remove the CWD from sys.path while we load stuff.\n",
            "/usr/local/lib/python3.7/dist-packages/ipykernel_launcher.py:12: FutureWarning: The default value of regex will change from True to False in a future version.\n",
            "  if sys.path[0] == '':\n",
            "/usr/local/lib/python3.7/dist-packages/ipykernel_launcher.py:14: FutureWarning: The default value of regex will change from True to False in a future version.\n",
            "  \n"
          ]
        }
      ],
      "source": [
        "# Preprocessing\n",
        "\n",
        "test_df = test_df[test_df.LIENWIKI.isna()==False]\n",
        "test_df.LIENWIKI = test_df.LIENWIKI.str.replace(\"/wikisup/base%20de%20connaissance%20support/\",'')\n",
        "test_df.ENONCE_PROBLEME_P = test_df.ENONCE_PROBLEME_P.str.replace(\"description de\",'')\n",
        "test_df = test_df.apply(lambda x: x.astype(str).str.lower())\n",
        "#df[\"text\"] = df.DESIGNATION + \" \" + df.NOMENCLATURE_PROBLEME + \" \" + df.ENONCE_PROBLEME_P\n",
        "test_df.drop([\"STATUT\",\"INCIDENT\",\"DESIGNATION_PRODUIT\",\"DESIGNATION_EQUIPEMENT\",\"DESIGNATION_APP\",\"CODE_PRODUIT\",\"CODE_EQUIPEMENT\",\"CODE_APP\"],axis=1,inplace=True)\n",
        "\n",
        "cols = test_df.select_dtypes(include=[np.object]).columns\n",
        "test_df[cols[:-1]] = test_df[cols[:-1]].apply(lambda x: x.str.normalize('NFKD').str.encode('ascii', errors='ignore').str.decode('utf-8'))\n",
        "test_df[cols[:-1]] = test_df[cols[:-1]].apply(lambda x: x.str.replace('[^\\dA-Za-z]', ' '))\n",
        "test_df[cols[:-1]] = test_df[cols[:-1]].apply(lambda x: x.str.replace('xx', ''))\n",
        "test_df[cols[:-1]] = test_df[cols[:-1]].apply(lambda x: x.str.replace(r'\\b\\w\\b', '').str.replace(r'\\s+', ' '))\n",
        "\n",
        "\n",
        "\n"
      ]
    },
    {
      "cell_type": "code",
      "execution_count": null,
      "metadata": {
        "colab": {
          "background_save": true
        },
        "id": "UrHr7eBjf-j3"
      },
      "outputs": [],
      "source": [
        "test_df.LIENWIKI[test_df.LIENWIKI.str.contains(\"host\")] = \"host\""
      ]
    },
    {
      "cell_type": "code",
      "execution_count": null,
      "metadata": {
        "colab": {
          "background_save": true
        },
        "id": "1ewKulSVkO4M"
      },
      "outputs": [],
      "source": [
        ""
      ]
    },
    {
      "cell_type": "code",
      "execution_count": null,
      "metadata": {
        "colab": {
          "background_save": true
        },
        "id": "MshWE8o_f7xE"
      },
      "outputs": [],
      "source": [
        "test_df.LIENWIKI = le.transform(test_df.LIENWIKI)\n",
        "\n",
        "test_df['ENONCE_PROBLEME_P'] = test_df['ENONCE_PROBLEME_P'].apply(lambda x: ' '.join([item for item in x.split() if item not in stp_list]))"
      ]
    },
    {
      "cell_type": "code",
      "execution_count": null,
      "metadata": {
        "colab": {
          "background_save": true
        },
        "id": "gOZ9Y7UY_ew6"
      },
      "outputs": [],
      "source": [
        "# Extraction des features\n",
        "\n",
        "test_vectorized1 = cv1.transform(test_df.loc[:,\"DESIGNATION\"])\n",
        "test_vectorized2 = cv2.transform(test_df.loc[:,\"ENONCE_PROBLEME_P\"])\n",
        "test_vectorized3 = cv3.transform(test_df.loc[:,\"NOMENCLATURE_PROBLEME\"])\n",
        "\n",
        "Test_features = hstack([test_vectorized1,test_vectorized2,test_vectorized3])"
      ]
    },
    {
      "cell_type": "code",
      "execution_count": null,
      "metadata": {
        "colab": {
          "background_save": true
        },
        "id": "mGKQFPvgApcJ"
      },
      "outputs": [],
      "source": [
        "# Importation du modèle\n",
        "filename = 'finalizedSVC_model.sav'\n",
        "loaded_model = pickle.load(open(filename, 'rb'))"
      ]
    },
    {
      "cell_type": "code",
      "execution_count": null,
      "metadata": {
        "colab": {
          "background_save": true
        },
        "id": "cKymJlZQkzL3",
        "outputId": "0770f24b-0081-4862-d8cc-48824a6a3b0b"
      },
      "outputs": [
        {
          "data": {
            "text/plain": [
              "(13464, 15642)"
            ]
          },
          "execution_count": null,
          "metadata": {},
          "output_type": "execute_result"
        }
      ],
      "source": [
        "Test_features.toarray().shape"
      ]
    },
    {
      "cell_type": "code",
      "execution_count": null,
      "metadata": {
        "colab": {
          "background_save": true
        },
        "id": "k0OVVbTjCDP6"
      },
      "outputs": [],
      "source": [
        "ypred_proba= loaded_model.predict_proba(Test_features)\n",
        "y_test = test_df.LIENWIKI"
      ]
    },
    {
      "cell_type": "code",
      "execution_count": null,
      "metadata": {
        "colab": {
          "background_save": true
        },
        "id": "hbcck0kFiBz4"
      },
      "outputs": [],
      "source": [
        "\n",
        "best_indexes = np.argpartition(ypred_proba,np.argmin(ypred_proba,axis=1))[:,-3:]\n",
        "first = loaded_model.classes_[best_indexes[:,-1]]\n",
        "second = loaded_model.classes_[best_indexes[:,-2]]\n",
        "third = loaded_model.classes_[best_indexes[:,-3]]\n",
        "Top_3 = [first, second, third]\n",
        "ypred_t1 = (y_test == first)\n",
        "t2 = (y_test == second) \n",
        "t3 = (y_test == third)\n",
        "ypred=np.logical_or(ypred_t1,t2)\n",
        "ypred_t3 = np.logical_or(ypred,t3)"
      ]
    },
    {
      "cell_type": "code",
      "execution_count": null,
      "metadata": {
        "colab": {
          "background_save": true
        },
        "id": "Hk7m-bISJdLf",
        "outputId": "58e5da81-e52a-439b-8f69-91b74b5f405e"
      },
      "outputs": [
        {
          "name": "stdout",
          "output_type": "stream",
          "text": [
            "Top 1:\n",
            "Accuracy score: 0.9726678550207962\n",
            "f1 score: 0.9677533762043978\n",
            "Top 3:\n",
            "Accuracy score: 0.9931669637551991\n"
          ]
        }
      ],
      "source": [
        "print(\"Top 1:\")\n",
        "print(f\"Accuracy score: {accuracy_score(y_test,first)}\")\n",
        "print(\"f1 score: {}\".format(f1_score(y_test,first,average=\"macro\")))\n",
        "print(\"Top 3:\")\n",
        "print(f\"Accuracy score: {ypred_t3.sum()/ypred_t3.shape[0]}\")\n",
        "#print(\"f1 score: {}\".format(f1_score(y_test,first,average=\"macro\")))"
      ]
    }
  ],
  "metadata": {
    "colab": {
      "collapsed_sections": [],
      "name": "Livrable_AirIntelligence.ipynb",
      "provenance": [],
      "include_colab_link": true
    },
    "kernelspec": {
      "display_name": "Python 3",
      "name": "python3"
    },
    "language_info": {
      "name": "python"
    }
  },
  "nbformat": 4,
  "nbformat_minor": 0
}